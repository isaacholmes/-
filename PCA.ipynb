{
 "cells": [
  {
   "cell_type": "code",
   "execution_count": 55,
   "metadata": {},
   "outputs": [],
   "source": [
    "#-*- coding: utf-8 -*-\n",
    "from __future__ import print_function\n",
    "from sklearn import datasets\n",
    "import matplotlib.pyplot as plt\n",
    "import matplotlib.cm as cmx\n",
    "import matplotlib.colors as colors\n",
    "import numpy as np\n",
    "import pandas as pd\n",
    "from collections import Counter\n",
    "from sklearn import preprocessing\n",
    "import seaborn as sns\n"
   ]
  },
  {
   "cell_type": "code",
   "execution_count": 36,
   "metadata": {},
   "outputs": [],
   "source": [
    "def shuffle_data(X,y,seed=None):\n",
    "    if seed:\n",
    "        np.random.seed(seed)\n",
    "    idx = np.arange(X.shape[0])\n",
    "    np.random.shuffle(idx)\n",
    "    \n",
    "    return x[idx],y[idx]"
   ]
  },
  {
   "cell_type": "code",
   "execution_count": 37,
   "metadata": {},
   "outputs": [],
   "source": [
    "#正则化数据集X\n",
    "def standardize(X):\n",
    "    X_std = np.zeros(X.shape)\n",
    "    mean = X.mean(axis=0)\n",
    "    std = X.std(axis=0)\n",
    "    \n",
    "    for col in range(np.shape(X)[1]):\n",
    "        if std[col]:\n",
    "            x_std[:,col] = (X_std[:,col]-mean[col])/std[col]\n",
    "    return X_std\n"
   ]
  },
  {
   "cell_type": "code",
   "execution_count": 38,
   "metadata": {},
   "outputs": [],
   "source": [
    "#划分数据集为训练集和测试集\n",
    "def train_test_split(X,y,test_size=0.2,shuffle=True,seed=None):\n",
    "    if shuffle:\n",
    "        X,y = shuffle_data(X,y,seed)\n",
    "    \n",
    "    n_train_samples = int(x.shape[0]*(1-test_size))\n",
    "    x_train,x_test = X[:n_train_samples],X[n_train_samples:]\n",
    "    y_train,y_test = y[:n_train_samples],y[n_train_samples:]\n",
    "    \n",
    "    return x_train,x_test,y_train,y_test"
   ]
  },
  {
   "cell_type": "code",
   "execution_count": 39,
   "metadata": {},
   "outputs": [],
   "source": [
    "#计算矩阵X的协方差矩阵\n",
    "def calculate_covariance_matrix(X,Y=np.empty((0,0))):\n",
    "    if not Y.any():\n",
    "        Y=X\n",
    "    n_samples = np.shape(X)[0]\n",
    "    covariance_matrix = (1/(n_samples-1))*(X-X.mean(axis=0)).T.dot(Y-Y.mean(axis=0))\n",
    "    return np.array(covariance_matrix,dtype=float)"
   ]
  },
  {
   "cell_type": "code",
   "execution_count": 40,
   "metadata": {},
   "outputs": [],
   "source": [
    "#计算数据集X每列的方差\n",
    "def calculate_variaance(X):\n",
    "    n_samples = np.shape(X)[0]\n",
    "    variance = (1/n_samples)*np.diag((X-X.mean(axis=0)).T.dot(X-X.mean(axis=0)))\n",
    "    return variance\n"
   ]
  },
  {
   "cell_type": "code",
   "execution_count": 41,
   "metadata": {},
   "outputs": [],
   "source": [
    "#计算数据集每列的标准差\n",
    "def calculate_std_dev(X):\n",
    "    std_dev = np.sqrt(calculate_variance(X))\n",
    "    return std_dev\n",
    "\n",
    "#计算相关系数矩阵\n",
    "def calculate_correlation_matrix(X, Y=np.empty([0])):\n",
    "    # 先计算协方差矩阵\n",
    "    covariance_matrix = calculate_covariance_matrix(X, Y)\n",
    "    # 计算X, Y的标准差\n",
    "    std_dev_X = np.expand_dims(calculate_std_dev(X), 1)\n",
    "    std_dev_y = np.expand_dims(calculate_std_dev(Y), 1)\n",
    "    correlation_matrix = np.divide(covariance_matrix, std_dev_X.dot(std_dev_y.T))\n",
    "\n",
    "    return np.array(correlation_matrix, dtype=float)"
   ]
  },
  {
   "cell_type": "code",
   "execution_count": 53,
   "metadata": {},
   "outputs": [
    {
     "ename": "IndentationError",
     "evalue": "unindent does not match any outer indentation level (<ipython-input-53-bc5b0392fcf3>, line 18)",
     "output_type": "error",
     "traceback": [
      "\u001b[1;36m  File \u001b[1;32m\"<ipython-input-53-bc5b0392fcf3>\"\u001b[1;36m, line \u001b[1;32m18\u001b[0m\n\u001b[1;33m    -*- coding: utf-8 -*-\u001b[0m\n\u001b[1;37m                         ^\u001b[0m\n\u001b[1;31mIndentationError\u001b[0m\u001b[1;31m:\u001b[0m unindent does not match any outer indentation level\n"
     ]
    }
   ],
   "source": [
    "class PCA():\n",
    "    def __init__(self):\n",
    "        self.eigen_values = None\n",
    "        self.eigen_vectors = None\n",
    "        self.k = 2\n",
    "#将原始数据集X通过PCA降维  \n",
    "    def transform(self,X):\n",
    "        covariance = calculate_covariance_matrix(X)\n",
    "        self.eigen_values,self.eigen_vectors = np.linalg.eig(covariance)\n",
    "        \n",
    "        idx = self.eigen_values.argsort()[::-1]\n",
    "        eigenvalues = self.eigen_values[idx][:self.k]\n",
    "        eigenvectors = self.eigen_vectors[:,idx][:,:self.k]\n",
    "        \n",
    "        X_transformed = X.dot(eigenvectors)\n",
    "        \n",
    "        return X_transformed"
   ]
  },
  {
   "cell_type": "code",
   "execution_count": 66,
   "metadata": {},
   "outputs": [],
   "source": [
    "def excel2m(path):\n",
    "    data  = pd.read_excel('C:/Users/IsaacHolmes/Desktop/pfm_train.xlsx')\n",
    "    table = data.sheets()[0]\n",
    "    nrows = table.nrows  # 行数\n",
    "    ncols = table.ncols  # 列数\n",
    "    c1 = np.arange(0, nrows, 1)\n",
    "    datamatrix = np.zeros((nrows, ncols))\n",
    "    for x in range(ncols):\n",
    "        cols = table.col_values(x)\n",
    "        minVals = min(cols)\n",
    "        maxVals = max(cols)\n",
    "        cols1 = np.matrix(cols)  # 把list转换为矩阵进行矩阵操作\n",
    "        ranges = maxVals - minVals\n",
    "        b = cols1 - minVals\n",
    "        normcols = b / ranges  # 数据进行归一化处理\n",
    "        datamatrix[:, x] = normcols # 把数据进行存储\n",
    "    return datamatrix"
   ]
  },
  {
   "cell_type": "code",
   "execution_count": 67,
   "metadata": {},
   "outputs": [],
   "source": [
    "def main():\n",
    "    \n",
    "    #data = datasets.load_iris()\n",
    "    data = datamatrix\n",
    "    #data = pd.read_excel('C:/Users/IsaacHolmes/Desktop/pfm_train.xlsx')\n",
    "    X = data.data\n",
    "    y = data.target\n",
    "    \n",
    "    X_trans = PCA().transform(X)\n",
    "    \n",
    "    x1 = X_trans[:,0]\n",
    "    x2 = X_trans[:,1]\n",
    "    \n",
    "    cmap = plt.get_cmap('viridis')\n",
    "    colors = [cmap(i) for i in np. linspace(0,1,len(np.unique(y)))]\n",
    "    \n",
    "    class_distr = []\n",
    "    for i,l in enumerate(np.unique(y)):\n",
    "        _x1 = x1[y == 1]\n",
    "        _x2 = x2[y == 1]\n",
    "        _y = y[y == 1]\n",
    "        class_distr.append(plt.scatter(_x1,_x2,color=colors[i]))\n",
    "        \n",
    "    plt.legend(class_distr,y,loc = 1)\n",
    "    \n",
    "    plt.xlabel('Principal Comp1')\n",
    "    plt.ylabel('Principal Comp2')\n",
    "    plt.show()\n",
    "    \n",
    "\n",
    "    "
   ]
  },
  {
   "cell_type": "code",
   "execution_count": 68,
   "metadata": {},
   "outputs": [
    {
     "ename": "AttributeError",
     "evalue": "'numpy.ndarray' object has no attribute 'target'",
     "output_type": "error",
     "traceback": [
      "\u001b[1;31m---------------------------------------------------------------------------\u001b[0m",
      "\u001b[1;31mAttributeError\u001b[0m                            Traceback (most recent call last)",
      "\u001b[1;32m<ipython-input-68-fff10477dc28>\u001b[0m in \u001b[0;36m<module>\u001b[1;34m()\u001b[0m\n\u001b[0;32m      1\u001b[0m \u001b[1;32mif\u001b[0m \u001b[0m__name__\u001b[0m \u001b[1;33m==\u001b[0m\u001b[1;34m\"__main__\"\u001b[0m\u001b[1;33m:\u001b[0m\u001b[1;33m\u001b[0m\u001b[0m\n\u001b[1;32m----> 2\u001b[1;33m     \u001b[0mmain\u001b[0m\u001b[1;33m(\u001b[0m\u001b[1;33m)\u001b[0m\u001b[1;33m\u001b[0m\u001b[0m\n\u001b[0m",
      "\u001b[1;32m<ipython-input-67-52ab0f12c456>\u001b[0m in \u001b[0;36mmain\u001b[1;34m()\u001b[0m\n\u001b[0;32m      5\u001b[0m     \u001b[1;31m#data = pd.read_excel('C:/Users/IsaacHolmes/Desktop/pfm_train.xlsx')\u001b[0m\u001b[1;33m\u001b[0m\u001b[1;33m\u001b[0m\u001b[0m\n\u001b[0;32m      6\u001b[0m     \u001b[0mX\u001b[0m \u001b[1;33m=\u001b[0m \u001b[0mdata\u001b[0m\u001b[1;33m.\u001b[0m\u001b[0mdata\u001b[0m\u001b[1;33m\u001b[0m\u001b[0m\n\u001b[1;32m----> 7\u001b[1;33m     \u001b[0my\u001b[0m \u001b[1;33m=\u001b[0m \u001b[0mdata\u001b[0m\u001b[1;33m.\u001b[0m\u001b[0mtarget\u001b[0m\u001b[1;33m\u001b[0m\u001b[0m\n\u001b[0m\u001b[0;32m      8\u001b[0m \u001b[1;33m\u001b[0m\u001b[0m\n\u001b[0;32m      9\u001b[0m     \u001b[0mX_trans\u001b[0m \u001b[1;33m=\u001b[0m \u001b[0mPCA\u001b[0m\u001b[1;33m(\u001b[0m\u001b[1;33m)\u001b[0m\u001b[1;33m.\u001b[0m\u001b[0mtransform\u001b[0m\u001b[1;33m(\u001b[0m\u001b[0mX\u001b[0m\u001b[1;33m)\u001b[0m\u001b[1;33m\u001b[0m\u001b[0m\n",
      "\u001b[1;31mAttributeError\u001b[0m: 'numpy.ndarray' object has no attribute 'target'"
     ]
    }
   ],
   "source": [
    "if __name__ ==\"__main__\":\n",
    "    main()"
   ]
  },
  {
   "cell_type": "code",
   "execution_count": 73,
   "metadata": {},
   "outputs": [
    {
     "data": {
      "text/plain": [
       "(1209L, 31L)"
      ]
     },
     "execution_count": 73,
     "metadata": {},
     "output_type": "execute_result"
    }
   ],
   "source": [
    "datamatrix.shape"
   ]
  },
  {
   "cell_type": "code",
   "execution_count": null,
   "metadata": {},
   "outputs": [],
   "source": []
  }
 ],
 "metadata": {
  "kernelspec": {
   "display_name": "Python 2",
   "language": "python",
   "name": "python2"
  },
  "language_info": {
   "codemirror_mode": {
    "name": "ipython",
    "version": 2
   },
   "file_extension": ".py",
   "mimetype": "text/x-python",
   "name": "python",
   "nbconvert_exporter": "python",
   "pygments_lexer": "ipython2",
   "version": "2.7.15"
  }
 },
 "nbformat": 4,
 "nbformat_minor": 2
}
