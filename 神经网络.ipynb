{
 "cells": [
  {
   "cell_type": "code",
   "execution_count": 11,
   "metadata": {},
   "outputs": [],
   "source": [
    "import pandas as pd\n",
    "import numpy as np\n",
    "import matplotlib.pyplot as plt \n",
    "import os \n",
    "data = np.loadtxt('C:\\Users\\IsaacHolmes\\Desktop\\pfm.txt')\n",
    "X = data[:,0:29]\n",
    "y = data[:,30]\n"
   ]
  },
  {
   "cell_type": "code",
   "execution_count": 31,
   "metadata": {},
   "outputs": [
    {
     "data": {
      "text/plain": [
       "array([[-7.02751288e-01,  4.70915923e-01, -5.12852896e-01, ...,\n",
       "        -1.61503162e-01, -1.02096152e+00,  2.56660528e-01],\n",
       "       [ 1.95670849e+00, -8.75945418e-02,  1.86775419e+00, ...,\n",
       "        -5.11243845e-01, -3.45638703e-01,  6.76194346e-01],\n",
       "       [-5.04962732e-01,  3.40577022e+00, -8.40089614e-01, ...,\n",
       "         5.71734283e-01, -5.21813050e-01, -2.34218955e-01],\n",
       "       ...,\n",
       "       [ 1.51497523e-01,  2.42353492e+00,  7.48726168e-01, ...,\n",
       "         4.81444991e-01,  1.15727607e+00, -1.24817092e-01],\n",
       "       [-9.59154960e-01,  2.23000077e-01,  1.52361742e+00, ...,\n",
       "        -3.82067566e-01, -6.77662654e-01,  6.76284726e-01],\n",
       "       [-1.80768321e+00, -4.61478765e-01,  5.25645913e-01, ...,\n",
       "         3.09858498e-01,  1.17936875e-03,  3.30940486e-01]])"
      ]
     },
     "execution_count": 31,
     "metadata": {},
     "output_type": "execute_result"
    }
   ],
   "source": [
    "import matplotlib.pyplot as plt                 #加载matplotlib用于数据的可视化\n",
    "from sklearn.decomposition import PCA  #加载PCA算法包\n",
    "from sklearn import preprocessing\n",
    "from sklearn.preprocessing import StandardScaler\n",
    "from scipy import io as spio\n",
    "\n",
    "scaler = StandardScaler()\n",
    "scaler.fit(X)\n",
    "x_train = scaler.transform(X)\n",
    "pca=PCA(n_components=25)     #加载PCA算法，设置降维后主成分数目为2\n",
    "reduced_x=pca.fit_transform(x_train)#对样本进行降维\n",
    "reduced_x"
   ]
  },
  {
   "cell_type": "code",
   "execution_count": 57,
   "metadata": {},
   "outputs": [],
   "source": [
    "class Perceptron(object):\n",
    "    \"\"\"\n",
    "    Parameters\n",
    "    ------------\n",
    "    eta : float\n",
    "        学习率 (between 0.0 and 1.0)\n",
    "    n_iter : int\n",
    "        迭代次数\n",
    "    Attributes\n",
    "    -----------\n",
    "    w_ : 1d-array\n",
    "        权重\n",
    "    errors_ : list\n",
    "        误差\n",
    "    \"\"\"\n",
    "    def __init__(self, eta=0.01, n_iter=10):\n",
    "        self.eta = eta\n",
    "        self.n_iter = n_iter\n",
    "\n",
    "    def fit(self, X, y):\n",
    "        self.w_ = np.zeros(1 + X.shape[1])\n",
    "        self.errors_ = []\n",
    "\n",
    "        for _ in range(self.n_iter):\n",
    "            errors = 0\n",
    "            for xi, target in zip(X, y):\n",
    "                update = self.eta * (target - self.predict(xi))\n",
    "                self.w_[1:] += update * xi\n",
    "                self.w_[0] += update\n",
    "                errors += int(update != 0.0)\n",
    "            self.errors_.append(errors)\n",
    "        return self\n",
    "\n",
    "    def net_input(self, X):\n",
    "        return np.dot(X, self.w_[1:]) + self.w_[0]\n",
    "\n",
    "    def predict(self, X):\n",
    "        return np.where(self.net_input(X) >= 0.0, 1, -1)\n"
   ]
  },
  {
   "cell_type": "code",
   "execution_count": 58,
   "metadata": {},
   "outputs": [
    {
     "data": {
      "text/plain": [
       "<__main__.Perceptron at 0x1f351ba8>"
      ]
     },
     "execution_count": 58,
     "metadata": {},
     "output_type": "execute_result"
    }
   ],
   "source": [
    "ppn = Perceptron(eta=0.1, n_iter=10)\n",
    "ppn.fit(reduced_x, y)"
   ]
  },
  {
   "cell_type": "code",
   "execution_count": 59,
   "metadata": {},
   "outputs": [
    {
     "data": {
      "image/png": "[encoded data removed]",
      "text/plain": [
       "<Figure size 432x288 with 1 Axes>"
      ]
     },
     "metadata": {
      "needs_background": "light"
     },
     "output_type": "display_data"
    }
   ],
   "source": [
    "plt.plot(range(1, len(ppn.errors_) + 1), ppn.errors_, marker='o')\n",
    "plt.xlabel('Epochs')\n",
    "plt.ylabel('Number of misclassifications')\n",
    "plt.show()"
   ]
  },
  {
   "cell_type": "code",
   "execution_count": null,
   "metadata": {},
   "outputs": [],
   "source": []
  }
 ],
 "metadata": {
  "kernelspec": {
   "display_name": "Python 2",
   "language": "python",
   "name": "python2"
  },
  "language_info": {
   "codemirror_mode": {
    "name": "ipython",
    "version": 2
   },
   "file_extension": ".py",
   "mimetype": "text/x-python",
   "name": "python",
   "nbconvert_exporter": "python",
   "pygments_lexer": "ipython2",
   "version": "2.7.15"
  }
 },
 "nbformat": 4,
 "nbformat_minor": 2
}
