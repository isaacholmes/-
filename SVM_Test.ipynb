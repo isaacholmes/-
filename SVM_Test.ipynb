{
 "cells": [
  {
   "cell_type": "code",
   "execution_count": 4,
   "metadata": {},
   "outputs": [
    {
     "name": "stdout",
     "output_type": "stream",
     "text": [
      "step 1: load data...\n",
      "step 2: training...\n",
      "---iter:0 entire set, alpha pairs changed:7\n",
      "---iter:1 non boundary, alpha pairs changed:4\n",
      "---iter:2 non boundary, alpha pairs changed:0\n",
      "---iter:3 entire set, alpha pairs changed:0\n",
      "Congratulations, training complete! Took 0.080000s!\n",
      "step 3: testing...\n",
      "step 4: show the result...\n",
      "The classify accuracy is: 100.000%\n"
     ]
    },
    {
     "data": {
      "image/png": "[encoded data removed]",
      "text/plain": [
       "<Figure size 432x288 with 1 Axes>"
      ]
     },
     "metadata": {
      "needs_background": "light"
     },
     "output_type": "display_data"
    }
   ],
   "source": [
    "from numpy import *\n",
    "import SVM\n",
    " \n",
    "################## test svm #####################\n",
    "## step 1: load data\n",
    "print \"step 1: load data...\"\n",
    "dataSet = []\n",
    "labels = []\n",
    "fileIn = open('C:/Users/IsaacHolmes/Desktop/SVM_Test.txt')\n",
    "for line in fileIn.readlines():\n",
    "\tlineArr = line.strip().split(' ')\n",
    "\tdataSet.append([float(lineArr[0]), float(lineArr[1])])\n",
    "\tlabels.append(float(lineArr[2]))\n",
    " \n",
    "dataSet = mat(dataSet)\n",
    "labels = mat(labels).T\n",
    "train_x = dataSet[0:81, :]\n",
    "train_y = labels[0:81, :]\n",
    "test_x = dataSet[80:101, :]\n",
    "test_y = labels[80:101, :]\n",
    " \n",
    "## step 2: training...\n",
    "print \"step 2: training...\"\n",
    "C = 0.6\n",
    "toler = 0.001\n",
    "maxIter = 50\n",
    "svmClassifier = SVM.trainSVM(train_x, train_y, C, toler, maxIter, kernelOption = ('linear', 0))\n",
    " \n",
    "## step 3: testing\n",
    "print \"step 3: testing...\"\n",
    "accuracy = SVM.testSVM(svmClassifier, test_x, test_y)\n",
    " \n",
    "## step 4: show the result\n",
    "print \"step 4: show the result...\"\t\n",
    "print 'The classify accuracy is: %.3f%%' % (accuracy * 100)\n",
    "SVM.showSVM(svmClassifier)\n"
   ]
  },
  {
   "cell_type": "code",
   "execution_count": null,
   "metadata": {},
   "outputs": [],
   "source": []
  },
  {
   "cell_type": "code",
   "execution_count": null,
   "metadata": {},
   "outputs": [],
   "source": []
  },
  {
   "cell_type": "code",
   "execution_count": null,
   "metadata": {},
   "outputs": [],
   "source": []
  },
  {
   "cell_type": "code",
   "execution_count": null,
   "metadata": {},
   "outputs": [],
   "source": []
  }
 ],
 "metadata": {
  "kernelspec": {
   "display_name": "Python 2",
   "language": "python",
   "name": "python2"
  },
  "language_info": {
   "codemirror_mode": {
    "name": "ipython",
    "version": 2
   },
   "file_extension": ".py",
   "mimetype": "text/x-python",
   "name": "python",
   "nbconvert_exporter": "python",
   "pygments_lexer": "ipython2",
   "version": "2.7.15"
  }
 },
 "nbformat": 4,
 "nbformat_minor": 2
}
